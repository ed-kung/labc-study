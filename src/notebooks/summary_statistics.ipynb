{
 "cells": [
  {
   "cell_type": "code",
   "execution_count": 1,
   "id": "f760cc3a-246c-4217-b996-727e2b5ecf31",
   "metadata": {},
   "outputs": [],
   "source": [
    "import os\n",
    "import sys\n",
    "sys.path.insert(0, os.path.abspath(os.path.join(os.path.abspath(\"\"),\"../python\")))\n",
    "\n",
    "import pandas as pd\n",
    "import numpy as np\n",
    "\n",
    "from matplotlib import pyplot as plt\n",
    "plt.rcParams['font.family'] = 'Times New Roman'\n",
    "plt.rcParams['font.size'] = 12\n",
    "\n",
    "import table_utils as tu\n"
   ]
  },
  {
   "cell_type": "code",
   "execution_count": 2,
   "id": "c67cdac0-7e40-44b6-9d45-9756972c7f40",
   "metadata": {},
   "outputs": [],
   "source": [
    "dfw = pd.read_pickle(\"../../intermediate/data_main.pkl\")"
   ]
  },
  {
   "cell_type": "code",
   "execution_count": 3,
   "id": "d37041f2-bccd-4ed2-9901-18acdc7267f9",
   "metadata": {},
   "outputs": [
    {
     "name": "stdout",
     "output_type": "stream",
     "text": [
      "Summary Statistics\\\\ [1ex]\n",
      " &  & All Projects & Market-Rate Projects & Mixed-Income Projects & 100% Affordable Projects\\\\ [1ex]\n",
      "\\multirow{3}{1.2in}{\\centering \\# Projects} & Total & 2,677 & 1,681 & 701 & 295\\\\ [1ex]\n",
      " & Completed & 1,712 & 1,192 & 351 & 169\\\\ [1ex]\n",
      " & Not Completed & 965 & 489 & 350 & 126\\\\ [1ex]\n",
      "\\multirow{3}{1.2in}{\\centering \\# Dwelling Units} & Total & 120,213 & 70,272 & 36,269 & 13,672\\\\ [1ex]\n",
      " & Completed & 71,532 & 47,904 & 15,929 & 7,699\\\\ [1ex]\n",
      " & Not Completed & 48,681 & 22,368 & 20,340 & 5,973\\\\ [1ex]\n",
      "\\multirow{3}{1.2in}{\\centering \\# Market-Rate Units} & Total & 102,897 & 70,272 & 32,422 & 203\\\\ [1ex]\n",
      " & Completed & 62,493 & 47,904 & 14,449 & 140\\\\ [1ex]\n",
      " & Not Completed & 40,404 & 22,368 & 17,973 & 63\\\\ [1ex]\n",
      "\\multirow{3}{1.2in}{\\centering \\# Affordable Units} & Total & 17,316 & 0 & 3,847 & 13,469\\\\ [1ex]\n",
      " & Completed & 9,039 & 0 & 1,480 & 7,559\\\\ [1ex]\n",
      " & Not Completed & 8,277 & 0 & 2,367 & 5,910\\\\ [1ex]\n"
     ]
    }
   ],
   "source": [
    "# Summary statistics (counts)\n",
    "\n",
    "idx1 = [True]*len(dfw)\n",
    "idx2 = ~(dfw['AFFORDABLE']) & ~(dfw['MIXEDINCOME'])\n",
    "idx3 = (dfw['MIXEDINCOME'])\n",
    "idx4 = (dfw['AFFORDABLE'])\n",
    "\n",
    "tbl = [['Summary Statistics']]\n",
    "tbl.append(['', '', 'All Projects', 'Market-Rate Projects', 'Mixed-Income Projects', '100% Affordable Projects'])\n",
    "\n",
    "row = ['\\\\multirow{3}{1.2in}{\\\\centering \\\\# Projects}', 'Total']\n",
    "for idx in [idx1, idx2, idx3, idx4]:\n",
    "    row.append(f\"{len(dfw.loc[idx]):,.0f}\")\n",
    "tbl.append(row)\n",
    "row = ['', 'Completed']\n",
    "for idx in [idx1, idx2, idx3, idx4]:\n",
    "    row.append(f\"{dfw.loc[idx,'COFO_DATE'].notnull().sum():,.0f}\")\n",
    "tbl.append(row)\n",
    "row = ['', 'Not Completed']\n",
    "for idx in [idx1, idx2, idx3, idx4]:\n",
    "    row.append(f\"{dfw.loc[idx,'COFO_DATE'].isnull().sum():,.0f}\")\n",
    "tbl.append(row)\n",
    "\n",
    "row = ['\\\\multirow{3}{1.2in}{\\\\centering \\\\# Dwelling Units}', 'Total']\n",
    "for idx in [idx1, idx2, idx3, idx4]:\n",
    "    row.append(f\"{dfw.loc[idx,'DU_CHANGED'].sum():,.0f}\")\n",
    "tbl.append(row)\n",
    "row = ['', 'Completed']\n",
    "for idx in [idx1, idx2, idx3, idx4]:\n",
    "    row.append(f\"{dfw.loc[idx & (dfw['COFO_DATE'].notnull()), 'DU_CHANGED'].sum():,.0f}\")\n",
    "tbl.append(row)\n",
    "row = ['', 'Not Completed']\n",
    "for idx in [idx1, idx2, idx3, idx4]:\n",
    "    row.append(f\"{dfw.loc[idx & (dfw['COFO_DATE'].isnull()), 'DU_CHANGED'].sum():,.0f}\")\n",
    "tbl.append(row)\n",
    "\n",
    "row = ['\\\\multirow{3}{1.2in}{\\\\centering \\\\# Market-Rate Units}', 'Total']\n",
    "for idx in [idx1, idx2, idx3, idx4]:\n",
    "    row.append(f\"{dfw.loc[idx,'MARKETRATE_UNITS'].sum():,.0f}\")\n",
    "tbl.append(row)\n",
    "row = ['', 'Completed']\n",
    "for idx in [idx1, idx2, idx3, idx4]:\n",
    "    row.append(f\"{dfw.loc[idx & (dfw['COFO_DATE'].notnull()), 'MARKETRATE_UNITS'].sum():,.0f}\")\n",
    "tbl.append(row)\n",
    "row = ['', 'Not Completed']\n",
    "for idx in [idx1, idx2, idx3, idx4]:\n",
    "    row.append(f\"{dfw.loc[idx & (dfw['COFO_DATE'].isnull()), 'MARKETRATE_UNITS'].sum():,.0f}\")\n",
    "tbl.append(row)\n",
    "\n",
    "row = ['\\\\multirow{3}{1.2in}{\\\\centering \\\\# Affordable Units}', 'Total']\n",
    "for idx in [idx1, idx2, idx3, idx4]:\n",
    "    row.append(f\"{dfw.loc[idx,'AFFORDABLE_UNITS'].sum():,.0f}\")\n",
    "tbl.append(row)\n",
    "row = ['', 'Completed']\n",
    "for idx in [idx1, idx2, idx3, idx4]:\n",
    "    row.append(f\"{dfw.loc[idx & (dfw['COFO_DATE'].notnull()), 'AFFORDABLE_UNITS'].sum():,.0f}\")\n",
    "tbl.append(row)\n",
    "row = ['', 'Not Completed']\n",
    "for idx in [idx1, idx2, idx3, idx4]:\n",
    "    row.append(f\"{dfw.loc[idx & (dfw['COFO_DATE'].isnull()), 'AFFORDABLE_UNITS'].sum():,.0f}\")\n",
    "tbl.append(row)\n",
    "\n",
    "tu.as_latex(tbl)\n"
   ]
  },
  {
   "cell_type": "code",
   "execution_count": 4,
   "id": "a9286a05-5036-46ed-a36a-b2a8ad6c4966",
   "metadata": {},
   "outputs": [
    {
     "name": "stderr",
     "output_type": "stream",
     "text": [
      "C:\\Users\\Edward\\AppData\\Local\\Temp\\ipykernel_19608\\1408670096.py:31: UserWarning: FixedFormatter should only be used together with FixedLocator\n",
      "  plt.gca().set_xticklabels(['{:,.0f}'.format(x) for x in plt.gca().get_xticks()])\n"
     ]
    },
    {
     "data": {
      "image/png": "[encoded data removed]",
      "text/plain": [
       "<Figure size 396x216 with 1 Axes>"
      ]
     },
     "metadata": {
      "needs_background": "light"
     },
     "output_type": "display_data"
    },
    {
     "name": "stdout",
     "output_type": "stream",
     "text": [
      "The average dwelling unit took 1,784 days to complete 4.9\n"
     ]
    }
   ],
   "source": [
    "# Development time chart\n",
    "\n",
    "labs = ['All Projects', 'Market-Rate\\nProjects', 'Mixed-Income\\nProjects', '100%-Affordable\\nProjects']\n",
    "indexes = [\n",
    "    dfw['COFO_DATE'].notnull(), \n",
    "    ~(dfw['AFFORDABLE']) & ~(dfw['MIXEDINCOME']) & (dfw['COFO_DATE'].notnull()), \n",
    "    (dfw['MIXEDINCOME']) & (dfw['COFO_DATE'].notnull()), \n",
    "    (dfw['AFFORDABLE']) & (dfw['COFO_DATE'].notnull())\n",
    "]\n",
    "\n",
    "approval = []\n",
    "construction = []\n",
    "total = []\n",
    "for i in range(4):\n",
    "    approval.append(dfw.loc[indexes[i], 'APPROVAL_TIME'].mean())\n",
    "    construction.append( dfw.loc[indexes[i], 'CONSTRUCTION_TIME'].mean())\n",
    "    total.append( dfw.loc[indexes[i], 'TOTAL_TIME'].mean())\n",
    "approval = np.array(approval)\n",
    "construction = np.array(construction)\n",
    "total = np.array(total)\n",
    "    \n",
    "plt.figure(figsize=(5.5,3))\n",
    "plt.rc('axes',labelsize=12)\n",
    "plt.barh(labs[::-1], approval[::-1])\n",
    "plt.barh(labs[::-1], construction[::-1], left=approval[::-1])\n",
    "for i in range(4):\n",
    "    plt.text(total[i] + 20, 3-i, f\"{np.round(total[i]):,.0f}\", va='center')\n",
    "    plt.text(approval[i]/2, 3-i, f\"{np.round(approval[i]):,.0f}\", va='center', ha='center', color='white')\n",
    "    plt.text(approval[i] + construction[i]/2, 3-i, f\"{np.round(construction[i]):,.0f}\", va='center', ha='center', color='white')\n",
    "plt.xlim(0, 1800)\n",
    "plt.gca().set_xticklabels(['{:,.0f}'.format(x) for x in plt.gca().get_xticks()])\n",
    "plt.grid(axis='x',alpha=0.2)\n",
    "plt.gca().set_axisbelow(True)\n",
    "plt.legend(['Approval Time', 'Construction Time'], loc='upper center', ncol=3, bbox_to_anchor=(0.5, 1.16))\n",
    "#plt.savefig('../../results/fig_times.svg', bbox_inches='tight')\n",
    "plt.show()\n",
    "\n",
    "du_time = np.average(dfw.loc[dfw['COFO_DATE'].notnull(), 'TOTAL_TIME'], weights=dfw.loc[dfw['COFO_DATE'].notnull(), 'DU_CHANGED'])\n",
    "print(f\"The average dwelling unit took {du_time:,.0f} days to complete {du_time/365.25:.1f}\")\n"
   ]
  },
  {
   "cell_type": "code",
   "execution_count": 5,
   "id": "17659c7b-6dd3-4db4-9be9-bc90db6498e0",
   "metadata": {},
   "outputs": [
    {
     "name": "stderr",
     "output_type": "stream",
     "text": [
      "C:\\Users\\Edward\\AppData\\Local\\Temp\\ipykernel_19608\\4035866766.py:23: UserWarning: FixedFormatter should only be used together with FixedLocator\n",
      "  plt.gca().set_xticklabels(['{:,.0f}'.format(x) for x in plt.gca().get_xticks()])\n"
     ]
    },
    {
     "data": {
      "image/png": "[encoded data removed]",
      "text/plain": [
       "<Figure size 432x144 with 1 Axes>"
      ]
     },
     "metadata": {
      "needs_background": "light"
     },
     "output_type": "display_data"
    }
   ],
   "source": [
    "# Development time histograms\n",
    "\n",
    "idx = dfw['COFO_DATE'].notnull()\n",
    "approval_times = dfw.loc[idx, 'APPROVAL_TIME']\n",
    "construction_times = dfw.loc[idx, 'CONSTRUCTION_TIME']\n",
    "\n",
    "plt.figure(figsize=(6,2))\n",
    "plt.rc('axes',labelsize=12)\n",
    "bins = np.arange(0, 4000, step=365.25/4)\n",
    "pct25 = dfw.loc[idx, 'TOTAL_TIME'].quantile(0.25)\n",
    "pct75 = dfw.loc[idx, 'TOTAL_TIME'].quantile(0.75)\n",
    "iqlocy = 135\n",
    "plt.hist(dfw.loc[idx, 'TOTAL_TIME'], bins=bins, alpha=0.8)\n",
    "plt.axvline(pct25, color='red')\n",
    "plt.axvline(pct75, color='red')\n",
    "plt.text(pct25, 155, f\"{pct25:,.0f}\", ha='center', va='bottom')\n",
    "plt.text(pct75, 155, f\"{pct75:,.0f}\", ha='center', va='bottom')\n",
    "plt.ylim(0, 150)\n",
    "plt.ylabel('# Projects')\n",
    "plt.legend(['25th and 75th percentile'], loc='upper right')\n",
    "plt.grid(axis='y', alpha=0.2)\n",
    "plt.gca().set_axisbelow(True)\n",
    "plt.gca().set_xticklabels(['{:,.0f}'.format(x) for x in plt.gca().get_xticks()])\n",
    "#plt.savefig('../../results/fig_hist.svg', bbox_inches='tight')\n",
    "plt.show()\n"
   ]
  }
 ],
 "metadata": {
  "kernelspec": {
   "display_name": "Python 3 (ipykernel)",
   "language": "python",
   "name": "python3"
  },
  "language_info": {
   "codemirror_mode": {
    "name": "ipython",
    "version": 3
   },
   "file_extension": ".py",
   "mimetype": "text/x-python",
   "name": "python",
   "nbconvert_exporter": "python",
   "pygments_lexer": "ipython3",
   "version": "3.10.5"
  }
 },
 "nbformat": 4,
 "nbformat_minor": 5
}
