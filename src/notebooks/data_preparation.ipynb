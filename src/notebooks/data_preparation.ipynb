{
 "cells": [
  {
   "cell_type": "code",
   "execution_count": 1,
   "id": "0477cce7-0668-42a2-abd8-ef5dda15b1fd",
   "metadata": {},
   "outputs": [],
   "source": [
    "import os\n",
    "import sys\n",
    "sys.path.insert(0, os.path.abspath(os.path.join(os.path.abspath(\"\"),\"../python\")))\n",
    "\n",
    "import pandas as pd\n",
    "import numpy as np\n",
    "\n",
    "import data_utils as du\n",
    "import lacp_utils as lu\n",
    "\n",
    "CENSOR_DATE = pd.to_datetime('2022-11-28')\n"
   ]
  },
  {
   "cell_type": "code",
   "execution_count": 2,
   "id": "cc9174ff-dd3a-46b2-8282-0bbceac146b8",
   "metadata": {},
   "outputs": [],
   "source": [
    "df1 = du.get_dbs_new()                                       # Data from DBS\n",
    "df2 = du.get_pdis()                                          # Data from PDIS\n",
    "df3 = pd.read_csv(\"../../data/dbs_new_pdis_map.csv\")         # DBS to PDIS mapping\n",
    "df4 = pd.read_csv(\"../../data/affordable_list.csv\")          # Affordability data\n",
    "df5 = pd.read_csv(\"../../data/ladwp_project_indicators.csv\") # LADWP data"
   ]
  },
  {
   "cell_type": "code",
   "execution_count": 3,
   "id": "27821197-ac93-4045-9d6a-04908fc084ae",
   "metadata": {},
   "outputs": [],
   "source": [
    "# Merge DBS permit numbers to planning case numbers\n",
    "# Resulting dataset is one row per PD case\n",
    "\n",
    "merge_cols_right = [col for col in list(df2.columns) if col not in list(df1.columns)]\n",
    "\n",
    "dfl = df1.merge(df3, on='PERMIT_NBR', how='left')\n",
    "dfl = dfl.merge(df2[merge_cols_right], on='CASE_NUMBER', how='left')\n",
    "\n",
    "dfl['TIME_TO_COMPLETION'] = (dfl['COMPLETION_DATE'] - dfl['FILING_DATE'])/pd.to_timedelta(1,unit='D')   # Calculate case time to completion\n"
   ]
  },
  {
   "cell_type": "code",
   "execution_count": 4,
   "id": "39bf3e78-b097-476a-b830-29af645a122c",
   "metadata": {},
   "outputs": [],
   "source": [
    "# Create wide format data\n",
    "# Resulting dataset is one row per project\n",
    "\n",
    "dfw = dfl.groupby(['PERMIT_NBR', 'SUBMITTED_DATE', 'ISSUE_DATE', 'COFO_DATE', 'DU_CHANGED'], dropna=False).agg(\n",
    "    FIRST_CASE_FILING_DATE = ('FILING_DATE', 'min'), \n",
    "    N_CASES = ('CASE_NUMBER', 'nunique')\n",
    ").reset_index()\n"
   ]
  },
  {
   "cell_type": "code",
   "execution_count": 5,
   "id": "ddcc0a8f-9ba4-4f4c-b79f-41f9cd964b38",
   "metadata": {},
   "outputs": [],
   "source": [
    "# Calculate start dates and development time\n",
    "\n",
    "dfw['START_DATE'] = dfw[['SUBMITTED_DATE', 'FIRST_CASE_FILING_DATE']].min(axis=1)\n",
    "dfw['TOTAL_TIME'] = (dfw['COFO_DATE'] - dfw['START_DATE'])/pd.to_timedelta(1,unit='D')\n",
    "\n",
    "dfw['CENSORED_TIME'] = dfw['TOTAL_TIME']\n",
    "dfw.loc[ dfw['COFO_DATE'].isnull(), 'CENSORED_TIME'] = (CENSOR_DATE - dfw.loc[ dfw['COFO_DATE'].isnull(), 'START_DATE'])/pd.to_timedelta(1,unit='D')\n",
    "\n",
    "dfw['IS_COMPLETE'] = (dfw['COFO_DATE'].notnull())*1\n",
    "\n",
    "dfw['PLANCHECK_TIME'] = (dfw['ISSUE_DATE'] - dfw['SUBMITTED_DATE'])/pd.to_timedelta(1,unit='D')\n",
    "dfw['APPROVAL_TIME'] = (dfw['ISSUE_DATE'] - dfw['START_DATE'])/pd.to_timedelta(1,unit='D')\n",
    "dfw['CONSTRUCTION_TIME'] = (dfw['COFO_DATE'] - dfw['ISSUE_DATE'])/pd.to_timedelta(1,unit='D')\n"
   ]
  },
  {
   "cell_type": "code",
   "execution_count": 6,
   "id": "4d58e43b-68a1-4b0b-9bb7-231f942fbe4f",
   "metadata": {},
   "outputs": [],
   "source": [
    "# Merge the rest of the DBS data onto dfw\n",
    "\n",
    "ignore_cols = ['SUBMITTED_DATE','ISSUE_DATE','COFO_DATE','DU_CHANGED']\n",
    "r_cols = [col for col in df1.columns if col not in ignore_cols]\n",
    "dfw = dfw.merge(df1[r_cols], on='PERMIT_NBR', how='left')\n"
   ]
  },
  {
   "cell_type": "code",
   "execution_count": 7,
   "id": "8e736935-f91e-4683-9836-335fdf266944",
   "metadata": {},
   "outputs": [],
   "source": [
    "# Merge affordability information\n",
    "\n",
    "dfw = dfw.merge(df4[['PERMIT_NBR','AFFORDABLE_UNITS']], on='PERMIT_NBR', how='left')\n",
    "dfw['AFFORDABLE_UNITS'] = dfw['AFFORDABLE_UNITS'].fillna(0)\n",
    "dfw['MARKETRATE_UNITS'] = dfw['DU_CHANGED'] - dfw['AFFORDABLE_UNITS']\n",
    "\n",
    "dfw['AFFORDABLE'] = dfw['AFFORDABLE_UNITS'] / dfw['DU_CHANGED'] >= 0.5\n",
    "dfw['MIXEDINCOME'] = (dfw['AFFORDABLE_UNITS']>0) & (dfw['AFFORDABLE_UNITS']/dfw['DU_CHANGED']<0.5)\n"
   ]
  },
  {
   "cell_type": "code",
   "execution_count": 8,
   "id": "f3bfcb79-16a6-4f46-9eeb-08be2713d0d3",
   "metadata": {},
   "outputs": [],
   "source": [
    "# Merge LADWP information\n",
    "\n",
    "dfw = dfw.merge(df5, on='PERMIT_NBR', how='left')\n",
    "dfw['POWER_OH'] = dfw['POWER_OH'].fillna(0)\n",
    "dfw['POWER_UG'] = dfw['POWER_UG'].fillna(0)\n",
    "dfw['POWER_CONDUIT'] = dfw['POWER_CONDUIT'].fillna(0)\n"
   ]
  },
  {
   "cell_type": "code",
   "execution_count": 9,
   "id": "591289b7-7d8b-4977-967f-6d06b41e2f13",
   "metadata": {},
   "outputs": [],
   "source": [
    "# Drop permits that expired or are closed\n",
    "\n",
    "dfw = dfw.loc[ dfw['STATUS'].isin(['CofO Issued', 'Issued', 'CofO Corrected', 'Permit Finaled', 'CofO in Progress']) ].reset_index(drop=True)\n"
   ]
  },
  {
   "cell_type": "code",
   "execution_count": 10,
   "id": "f2f53275-3b45-437d-a588-d743fee62094",
   "metadata": {},
   "outputs": [],
   "source": [
    "# Attach prefix and suffix dummies\n",
    "\n",
    "dfl['CASE_NUMBER'].fillna('',inplace=True)\n",
    "dfl = lu.attach_prefix_dummies(dfl, 'CASE_NUMBER')\n",
    "dfl = lu.attach_suffix_dummies(dfl, 'CASE_NUMBER')\n",
    "\n",
    "# Collapse the dummies to max \n",
    "aggs = {}\n",
    "for pfx in lu.PREFIX_DUMMIES:\n",
    "    aggs[pfx] = 'max'\n",
    "for sfx in lu.SUFFIX_DUMMIES:\n",
    "    aggs[sfx] = 'max'\n",
    "df_temp = dfl.groupby('PERMIT_NBR').agg(aggs).reset_index()\n",
    "\n",
    "dfw = dfw.merge(df_temp, on='PERMIT_NBR', how='left')\n"
   ]
  },
  {
   "cell_type": "code",
   "execution_count": 11,
   "id": "70771188-1048-478e-a253-f52b47a94cf9",
   "metadata": {},
   "outputs": [],
   "source": [
    "# Export the data\n",
    "\n",
    "dfw.to_pickle(\"../../intermediate/data_main.pkl\")\n",
    "dfw.to_csv(\"../../intermediate/data_main.csv\", header=True, index=False)\n"
   ]
  }
 ],
 "metadata": {
  "kernelspec": {
   "display_name": "Python 3 (ipykernel)",
   "language": "python",
   "name": "python3"
  },
  "language_info": {
   "codemirror_mode": {
    "name": "ipython",
    "version": 3
   },
   "file_extension": ".py",
   "mimetype": "text/x-python",
   "name": "python",
   "nbconvert_exporter": "python",
   "pygments_lexer": "ipython3",
   "version": "3.10.6"
  }
 },
 "nbformat": 4,
 "nbformat_minor": 5
}
